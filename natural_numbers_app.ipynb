{
 "cells": [
  {
   "cell_type": "code",
   "execution_count": 2,
   "id": "75feaf5f-d7fd-476e-a695-b280c010561f",
   "metadata": {},
   "outputs": [],
   "source": [
    "number = 20\n",
    "\n",
    "N = [*range(0, (number + 1))]\n",
    "\n",
    "final_list = [[a, b] for x, a in enumerate(N) for b in N[x + 1:] if a + b == number]\n",
    "\n",
    "with open(\"final_list.txt\", \"w\") as output:\n",
    "    output.write(str(final_list))\n",
    "\n",
    "\n",
    "##alternative solution\n",
    "#\n",
    "#import itertools\n",
    "#\n",
    "#final_list = [x for x in itertools.combinations(N, 2) if x[0] + x[1] == number]\n",
    "#final_list"
   ]
  }
 ],
 "metadata": {
  "kernelspec": {
   "display_name": "Python 3 (ipykernel)",
   "language": "python",
   "name": "python3"
  },
  "language_info": {
   "codemirror_mode": {
    "name": "ipython",
    "version": 3
   },
   "file_extension": ".py",
   "mimetype": "text/x-python",
   "name": "python",
   "nbconvert_exporter": "python",
   "pygments_lexer": "ipython3",
   "version": "3.9.12"
  }
 },
 "nbformat": 4,
 "nbformat_minor": 5
}
